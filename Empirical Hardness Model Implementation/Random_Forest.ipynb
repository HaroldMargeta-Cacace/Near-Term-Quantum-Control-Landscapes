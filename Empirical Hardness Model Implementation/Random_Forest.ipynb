{
  "cells": [
    {
      "cell_type": "code",
      "execution_count": null,
      "metadata": {
        "id": "5lurtF52lidyMSXiTGpIso2g"
      },
      "outputs": [],
      "source": [
        "import numpy as np\n",
        "import pandas as pd\n",
        "import matplotlib.pyplot as plt\n",
        "import matplotlib.font_manager as fm\n",
        "from scipy.optimize import curve_fit\n",
        "from sklearn import linear_model\n",
        "from sklearn.ensemble import RandomForestRegressor\n",
        "from sklearn.metrics import r2_score\n",
        "from sklearn.model_selection import train_test_split\n",
        "import seaborn as sns\n",
        "import itertools\n",
        "import os\n",
        "import scipy\n",
        "import pickle"
      ]
    },
    {
      "cell_type": "markdown",
      "metadata": {
        "id": "PrFY1ndUsFQV"
      },
      "source": [
        "# Prepare Data"
      ]
    },
    {
      "cell_type": "code",
      "execution_count": null,
      "metadata": {
        "id": "avYI9G6C4AGF"
      },
      "outputs": [],
      "source": [
        "df = pd.read_csv(\"erdos_renyi_a-g_with_graph_features.csv\")"
      ]
    },
    {
      "cell_type": "code",
      "execution_count": null,
      "metadata": {
        "id": "TALuOUU9rgm2"
      },
      "outputs": [],
      "source": [
        "# List of predictors\n",
        "predictors = ['p', 'Number of vertices', 'Number of edges', 'Edge density',\n",
        "       'Mean degree', 'Standard deviation of degrees', 'Skewness of degrees',\n",
        "       'Minimum degree', 'Maximum degree', 'Diameter', 'Radius',\n",
        "       'Vertex connectivity', 'Edge connectivity',\n",
        "       'Global clustering coefficient', 'Mean local clustering coefficient',\n",
        "       'Standard deviation of local clustering coefficients',\n",
        "       'Skewness of local clustering coefficients',\n",
        "       'Minimum local clustering coefficient',\n",
        "       'Maximum local clustering coefficient', 'Treewidth',\n",
        "       'Average path length', 'Circuit rank', 'Girth',\n",
        "       'Mean betweenness centrality',\n",
        "       'Standard deviation of betweenness centralities',\n",
        "       'Skewness of betweenness centralities',\n",
        "       'Minimum betweenness centrality', 'Maximum betweenness centrality',\n",
        "       'Algebraic connectivity', 'Von Neumann entropy',\n",
        "       'Adjacency spectrum mean', 'Adjacency spectrum standard deviation',\n",
        "       'Adjacency spectrum skewness', 'Adjacency spectrum min',\n",
        "       'Adjacency spectrum max', 'Laplacian spectrum mean',\n",
        "       'Laplacian spectrum standard deviation', 'Laplacian spectrum skewness',\n",
        "       'Laplacian spectrum max', 'Planarity',\n",
        "       'Mean harmonic centrality',\n",
        "       'Standard deviation of harmonic centralities',\n",
        "       'Skewness of harmonic centralities', 'Minimum harmonic centrality',\n",
        "       'Maximum harmonic centrality', 'Harmonic diameter', 'Mean core number',\n",
        "       'Standard deviation of core numbers', 'Skewness of core numbers',\n",
        "       'Minimum core number', 'Maximum core number', 'Chordality',\n",
        "       'Haemers bound', 'Claw-free']"
      ]
    },
    {
      "cell_type": "code",
      "execution_count": null,
      "metadata": {
        "id": "XktwojJ3Ah4d"
      },
      "outputs": [],
      "source": [
        "# Split df into training and testing dataset (ratio of 80:20)\n",
        "df_y = df['f_calls']\n",
        "df_x = df[predictors]\n",
        "train_x, test_x, train_y, test_y = train_test_split(df_x, df_y, test_size=.2)"
      ]
    },
    {
      "cell_type": "markdown",
      "source": [
        "We follow the preprocessing framework outlined on page 13 of Empirical Hardness Models: Methodology and a Case Study on Combinatorial Auctions (Kevin Leyton-Brown et al.)"
      ],
      "metadata": {
        "id": "soEcQL8k6Ssh"
      }
    },
    {
      "cell_type": "code",
      "execution_count": null,
      "metadata": {
        "id": "n9-Xr9Jd6GPx"
      },
      "outputs": [],
      "source": [
        "def preprocessing(train_x, test_x, train_y, test_y, predictors):\n",
        "  feature_to_remove = \"\"\n",
        "  max = 0\n",
        "  N = len(test_x)\n",
        "  p = len(predictors) - 1\n",
        "\n",
        "  for feature in predictors:\n",
        "    linear_regression_model = linear_model.LinearRegression()\n",
        "    new_predictors = predictors.copy()\n",
        "    new_predictors.remove(feature)\n",
        "\n",
        "    linear_regression_model.fit(train_x[new_predictors], train_x[feature])\n",
        "    linear_regression_predictions = linear_regression_model.predict(test_x[new_predictors])\n",
        "\n",
        "    r2 = r2_score(test_x[feature], linear_regression_predictions)\n",
        "    adj_r2 = 1 - (1 - r2) * ((N - 1)/(N - p - 1))\n",
        "\n",
        "    # paper uses threshold of τ = 0.99999 (pg 24)\n",
        "    if (adj_r2 >= .99999 and adj_r2 > max and r2 >= 0):\n",
        "      max = adj_r2\n",
        "      feature_to_remove = feature\n",
        "\n",
        "  return feature_to_remove\n",
        "\n",
        "feature_to_remove = preprocessing(train_x, test_x, train_y, test_y, predictors)\n",
        "\n",
        "while (feature_to_remove != \"\"):\n",
        "  predictors.remove(feature_to_remove)\n",
        "  feature_to_remove = preprocessing(train_x, test_x, train_y, test_y, predictors)\n",
        "\n",
        "train_x = train_x[predictors]\n",
        "test_x = test_x[predictors]"
      ]
    },
    {
      "cell_type": "markdown",
      "source": [
        "Using the feature importance table from the random forest regression, we identified the least important features when predicting the number of calls to the quantum circuit and removed them from the list of predictors when using random forest regression to predict the number of calls to the quantum circuit."
      ],
      "metadata": {
        "id": "odkqYQdo4qe8"
      }
    },
    {
      "cell_type": "code",
      "execution_count": null,
      "metadata": {
        "id": "w_Hx-fWOe--5"
      },
      "outputs": [],
      "source": [
        "features_rfr_calls = predictors.copy()\n",
        "features_to_remove = ['Maximum degree', 'Maximum core number',\n",
        "                     'Minimum core number', 'Edge connectivity',\n",
        "                     'Number of vertices', 'Claw-free', 'Diameter',\n",
        "                     'Vertex connectivity', 'Radius', 'Planarity',\n",
        "                     'Girth', 'Chordality']\n",
        "\n",
        "for feature in features_to_remove:\n",
        "    if feature in features_rfr_calls:\n",
        "        features_rfr_calls.remove(feature)"
      ]
    },
    {
      "cell_type": "markdown",
      "metadata": {
        "id": "XQ9P5JCTuVF_"
      },
      "source": [
        "# Random Forest Regression Implementation"
      ]
    },
    {
      "cell_type": "markdown",
      "source": [
        "In random forest regression, an ensemble of decision trees are randomly created. The final prediction of the model is computed by taking the mean of the predictions of each decision tree. By taking the mean of several decision trees, random forest reduces the risk of overfitting while still being able to model complicated relationships."
      ],
      "metadata": {
        "id": "u9sDaG9S68iT"
      }
    },
    {
      "cell_type": "code",
      "execution_count": null,
      "metadata": {
        "colab": {
          "base_uri": "https://localhost:8080/"
        },
        "id": "NMKWE3y98LcP",
        "outputId": "e19248c3-cf13-422a-a985-51ebe1cc059f"
      },
      "outputs": [
        {
          "output_type": "stream",
          "name": "stdout",
          "text": [
            "Accuracy on test data: -0.889\n"
          ]
        }
      ],
      "source": [
        "# Train & test random forest regression model\n",
        "random_forest_regression_model = RandomForestRegressor()\n",
        "random_forest_regression_model.fit(train_x[new_features], train_y)\n",
        "random_forest_regression_predictions = random_forest_regression_model.predict(test_x[new_features])\n",
        "\n",
        "print(\"Accuracy on test data: {:.3f}\".format(random_forest_regression_model.score(test_x[new_features], test_y)))"
      ]
    },
    {
      "cell_type": "code",
      "execution_count": null,
      "metadata": {
        "id": "L7gXJpGXy4y0"
      },
      "outputs": [],
      "source": [
        "# Save model\n",
        "with open('random_forest_regression_model.pkl', 'wb') as file:\n",
        "  pickle.dump(random_forest_regression_model, file)"
      ]
    },
    {
      "cell_type": "code",
      "execution_count": null,
      "metadata": {
        "id": "yX5o_ZzQXUvf"
      },
      "outputs": [],
      "source": [
        "# Compute & save feature importance table\n",
        "importances = random_forest_regression_model.feature_importances_\n",
        "feature_importance_df = pd.Series(importances, index=train_x[new_features].columns).sort_values(ascending=False)\n",
        "feature_importance_df.to_csv('feature_importance_mvg.csv')"
      ]
    },
    {
      "cell_type": "code",
      "execution_count": null,
      "metadata": {
        "colab": {
          "base_uri": "https://localhost:8080/"
        },
        "id": "E-JtpTypCmi_",
        "outputId": "81e4d543-337a-44c0-9f8f-e633209363b4"
      },
      "outputs": [
        {
          "output_type": "stream",
          "name": "stdout",
          "text": [
            "RMSE: 472.651\n",
            "MAE: 186.915\n",
            "R^2: 0.906\n",
            "Adj. R^2: 0.904\n"
          ]
        }
      ],
      "source": [
        "# Compute accuracy of random forest regression model: RMSE, MAE, R^2, & Adj. R^2\n",
        "rmse = np.sqrt(np.mean((random_forest_regression_predictions - test_y) ** 2))\n",
        "mae = np.mean(np.abs(random_forest_regression_predictions - test_y))\n",
        "r_2 = r2_score(np.array(test_y), random_forest_regression_predictions)\n",
        "n = len(test_x)\n",
        "p = len(predictors)\n",
        "adj_r2 = 1 - (1 - r_2) * (n - 1)/(n - p - 1)\n",
        "\n",
        "print(\"RMSE: {:.3f}\".format(rmse)) # minimize\n",
        "print(\"MAE: {:.3f}\".format(mae)) # minimize\n",
        "print(\"R^2: {:.3f}\".format(r_2)) # close to 1\n",
        "print(\"Adj. R^2: {:.3f}\".format(adj_r2)) # close to 1"
      ]
    },
    {
      "cell_type": "code",
      "execution_count": null,
      "metadata": {
        "colab": {
          "base_uri": "https://localhost:8080/",
          "height": 424
        },
        "id": "BFHzwaNIoa1D",
        "outputId": "004dff4e-769a-4880-ea5e-bff666256177"
      },
      "outputs": [
        {
          "output_type": "execute_result",
          "data": {
            "text/plain": [
              "          Predicted  mean_grad_variance\n",
              "1744   12922.370654         9736.238000\n",
              "1745    2898.180026         2523.282036\n",
              "1746     717.608610          500.256067\n",
              "1747     263.662167           88.568401\n",
              "1748    6186.093697         3999.172233\n",
              "...             ...                 ...\n",
              "23287    841.197696          875.926115\n",
              "23288  15707.381521        18170.589993\n",
              "23289   2865.514679         2839.067609\n",
              "23290    819.385125          893.834928\n",
              "23291    370.240627          292.512763\n",
              "\n",
              "[2240 rows x 2 columns]"
            ],
            "text/html": [
              "\n",
              "  <div id=\"df-6739322c-5a1e-43c4-87e3-804c27efe9e3\" class=\"colab-df-container\">\n",
              "    <div>\n",
              "<style scoped>\n",
              "    .dataframe tbody tr th:only-of-type {\n",
              "        vertical-align: middle;\n",
              "    }\n",
              "\n",
              "    .dataframe tbody tr th {\n",
              "        vertical-align: top;\n",
              "    }\n",
              "\n",
              "    .dataframe thead th {\n",
              "        text-align: right;\n",
              "    }\n",
              "</style>\n",
              "<table border=\"1\" class=\"dataframe\">\n",
              "  <thead>\n",
              "    <tr style=\"text-align: right;\">\n",
              "      <th></th>\n",
              "      <th>Predicted</th>\n",
              "      <th>mean_grad_variance</th>\n",
              "    </tr>\n",
              "  </thead>\n",
              "  <tbody>\n",
              "    <tr>\n",
              "      <th>1744</th>\n",
              "      <td>12922.370654</td>\n",
              "      <td>9736.238000</td>\n",
              "    </tr>\n",
              "    <tr>\n",
              "      <th>1745</th>\n",
              "      <td>2898.180026</td>\n",
              "      <td>2523.282036</td>\n",
              "    </tr>\n",
              "    <tr>\n",
              "      <th>1746</th>\n",
              "      <td>717.608610</td>\n",
              "      <td>500.256067</td>\n",
              "    </tr>\n",
              "    <tr>\n",
              "      <th>1747</th>\n",
              "      <td>263.662167</td>\n",
              "      <td>88.568401</td>\n",
              "    </tr>\n",
              "    <tr>\n",
              "      <th>1748</th>\n",
              "      <td>6186.093697</td>\n",
              "      <td>3999.172233</td>\n",
              "    </tr>\n",
              "    <tr>\n",
              "      <th>...</th>\n",
              "      <td>...</td>\n",
              "      <td>...</td>\n",
              "    </tr>\n",
              "    <tr>\n",
              "      <th>23287</th>\n",
              "      <td>841.197696</td>\n",
              "      <td>875.926115</td>\n",
              "    </tr>\n",
              "    <tr>\n",
              "      <th>23288</th>\n",
              "      <td>15707.381521</td>\n",
              "      <td>18170.589993</td>\n",
              "    </tr>\n",
              "    <tr>\n",
              "      <th>23289</th>\n",
              "      <td>2865.514679</td>\n",
              "      <td>2839.067609</td>\n",
              "    </tr>\n",
              "    <tr>\n",
              "      <th>23290</th>\n",
              "      <td>819.385125</td>\n",
              "      <td>893.834928</td>\n",
              "    </tr>\n",
              "    <tr>\n",
              "      <th>23291</th>\n",
              "      <td>370.240627</td>\n",
              "      <td>292.512763</td>\n",
              "    </tr>\n",
              "  </tbody>\n",
              "</table>\n",
              "<p>2240 rows × 2 columns</p>\n",
              "</div>\n",
              "    <div class=\"colab-df-buttons\">\n",
              "\n",
              "  <div class=\"colab-df-container\">\n",
              "    <button class=\"colab-df-convert\" onclick=\"convertToInteractive('df-6739322c-5a1e-43c4-87e3-804c27efe9e3')\"\n",
              "            title=\"Convert this dataframe to an interactive table.\"\n",
              "            style=\"display:none;\">\n",
              "\n",
              "  <svg xmlns=\"http://www.w3.org/2000/svg\" height=\"24px\" viewBox=\"0 -960 960 960\">\n",
              "    <path d=\"M120-120v-720h720v720H120Zm60-500h600v-160H180v160Zm220 220h160v-160H400v160Zm0 220h160v-160H400v160ZM180-400h160v-160H180v160Zm440 0h160v-160H620v160ZM180-180h160v-160H180v160Zm440 0h160v-160H620v160Z\"/>\n",
              "  </svg>\n",
              "    </button>\n",
              "\n",
              "  <style>\n",
              "    .colab-df-container {\n",
              "      display:flex;\n",
              "      gap: 12px;\n",
              "    }\n",
              "\n",
              "    .colab-df-convert {\n",
              "      background-color: #E8F0FE;\n",
              "      border: none;\n",
              "      border-radius: 50%;\n",
              "      cursor: pointer;\n",
              "      display: none;\n",
              "      fill: #1967D2;\n",
              "      height: 32px;\n",
              "      padding: 0 0 0 0;\n",
              "      width: 32px;\n",
              "    }\n",
              "\n",
              "    .colab-df-convert:hover {\n",
              "      background-color: #E2EBFA;\n",
              "      box-shadow: 0px 1px 2px rgba(60, 64, 67, 0.3), 0px 1px 3px 1px rgba(60, 64, 67, 0.15);\n",
              "      fill: #174EA6;\n",
              "    }\n",
              "\n",
              "    .colab-df-buttons div {\n",
              "      margin-bottom: 4px;\n",
              "    }\n",
              "\n",
              "    [theme=dark] .colab-df-convert {\n",
              "      background-color: #3B4455;\n",
              "      fill: #D2E3FC;\n",
              "    }\n",
              "\n",
              "    [theme=dark] .colab-df-convert:hover {\n",
              "      background-color: #434B5C;\n",
              "      box-shadow: 0px 1px 3px 1px rgba(0, 0, 0, 0.15);\n",
              "      filter: drop-shadow(0px 1px 2px rgba(0, 0, 0, 0.3));\n",
              "      fill: #FFFFFF;\n",
              "    }\n",
              "  </style>\n",
              "\n",
              "    <script>\n",
              "      const buttonEl =\n",
              "        document.querySelector('#df-6739322c-5a1e-43c4-87e3-804c27efe9e3 button.colab-df-convert');\n",
              "      buttonEl.style.display =\n",
              "        google.colab.kernel.accessAllowed ? 'block' : 'none';\n",
              "\n",
              "      async function convertToInteractive(key) {\n",
              "        const element = document.querySelector('#df-6739322c-5a1e-43c4-87e3-804c27efe9e3');\n",
              "        const dataTable =\n",
              "          await google.colab.kernel.invokeFunction('convertToInteractive',\n",
              "                                                    [key], {});\n",
              "        if (!dataTable) return;\n",
              "\n",
              "        const docLinkHtml = 'Like what you see? Visit the ' +\n",
              "          '<a target=\"_blank\" href=https://colab.research.google.com/notebooks/data_table.ipynb>data table notebook</a>'\n",
              "          + ' to learn more about interactive tables.';\n",
              "        element.innerHTML = '';\n",
              "        dataTable['output_type'] = 'display_data';\n",
              "        await google.colab.output.renderOutput(dataTable, element);\n",
              "        const docLink = document.createElement('div');\n",
              "        docLink.innerHTML = docLinkHtml;\n",
              "        element.appendChild(docLink);\n",
              "      }\n",
              "    </script>\n",
              "  </div>\n",
              "\n",
              "\n",
              "    <div id=\"df-cea8339f-45dc-4465-a9d7-54688080bf16\">\n",
              "      <button class=\"colab-df-quickchart\" onclick=\"quickchart('df-cea8339f-45dc-4465-a9d7-54688080bf16')\"\n",
              "                title=\"Suggest charts\"\n",
              "                style=\"display:none;\">\n",
              "\n",
              "<svg xmlns=\"http://www.w3.org/2000/svg\" height=\"24px\"viewBox=\"0 0 24 24\"\n",
              "     width=\"24px\">\n",
              "    <g>\n",
              "        <path d=\"M19 3H5c-1.1 0-2 .9-2 2v14c0 1.1.9 2 2 2h14c1.1 0 2-.9 2-2V5c0-1.1-.9-2-2-2zM9 17H7v-7h2v7zm4 0h-2V7h2v10zm4 0h-2v-4h2v4z\"/>\n",
              "    </g>\n",
              "</svg>\n",
              "      </button>\n",
              "\n",
              "<style>\n",
              "  .colab-df-quickchart {\n",
              "      --bg-color: #E8F0FE;\n",
              "      --fill-color: #1967D2;\n",
              "      --hover-bg-color: #E2EBFA;\n",
              "      --hover-fill-color: #174EA6;\n",
              "      --disabled-fill-color: #AAA;\n",
              "      --disabled-bg-color: #DDD;\n",
              "  }\n",
              "\n",
              "  [theme=dark] .colab-df-quickchart {\n",
              "      --bg-color: #3B4455;\n",
              "      --fill-color: #D2E3FC;\n",
              "      --hover-bg-color: #434B5C;\n",
              "      --hover-fill-color: #FFFFFF;\n",
              "      --disabled-bg-color: #3B4455;\n",
              "      --disabled-fill-color: #666;\n",
              "  }\n",
              "\n",
              "  .colab-df-quickchart {\n",
              "    background-color: var(--bg-color);\n",
              "    border: none;\n",
              "    border-radius: 50%;\n",
              "    cursor: pointer;\n",
              "    display: none;\n",
              "    fill: var(--fill-color);\n",
              "    height: 32px;\n",
              "    padding: 0;\n",
              "    width: 32px;\n",
              "  }\n",
              "\n",
              "  .colab-df-quickchart:hover {\n",
              "    background-color: var(--hover-bg-color);\n",
              "    box-shadow: 0 1px 2px rgba(60, 64, 67, 0.3), 0 1px 3px 1px rgba(60, 64, 67, 0.15);\n",
              "    fill: var(--button-hover-fill-color);\n",
              "  }\n",
              "\n",
              "  .colab-df-quickchart-complete:disabled,\n",
              "  .colab-df-quickchart-complete:disabled:hover {\n",
              "    background-color: var(--disabled-bg-color);\n",
              "    fill: var(--disabled-fill-color);\n",
              "    box-shadow: none;\n",
              "  }\n",
              "\n",
              "  .colab-df-spinner {\n",
              "    border: 2px solid var(--fill-color);\n",
              "    border-color: transparent;\n",
              "    border-bottom-color: var(--fill-color);\n",
              "    animation:\n",
              "      spin 1s steps(1) infinite;\n",
              "  }\n",
              "\n",
              "  @keyframes spin {\n",
              "    0% {\n",
              "      border-color: transparent;\n",
              "      border-bottom-color: var(--fill-color);\n",
              "      border-left-color: var(--fill-color);\n",
              "    }\n",
              "    20% {\n",
              "      border-color: transparent;\n",
              "      border-left-color: var(--fill-color);\n",
              "      border-top-color: var(--fill-color);\n",
              "    }\n",
              "    30% {\n",
              "      border-color: transparent;\n",
              "      border-left-color: var(--fill-color);\n",
              "      border-top-color: var(--fill-color);\n",
              "      border-right-color: var(--fill-color);\n",
              "    }\n",
              "    40% {\n",
              "      border-color: transparent;\n",
              "      border-right-color: var(--fill-color);\n",
              "      border-top-color: var(--fill-color);\n",
              "    }\n",
              "    60% {\n",
              "      border-color: transparent;\n",
              "      border-right-color: var(--fill-color);\n",
              "    }\n",
              "    80% {\n",
              "      border-color: transparent;\n",
              "      border-right-color: var(--fill-color);\n",
              "      border-bottom-color: var(--fill-color);\n",
              "    }\n",
              "    90% {\n",
              "      border-color: transparent;\n",
              "      border-bottom-color: var(--fill-color);\n",
              "    }\n",
              "  }\n",
              "</style>\n",
              "\n",
              "      <script>\n",
              "        async function quickchart(key) {\n",
              "          const quickchartButtonEl =\n",
              "            document.querySelector('#' + key + ' button');\n",
              "          quickchartButtonEl.disabled = true;  // To prevent multiple clicks.\n",
              "          quickchartButtonEl.classList.add('colab-df-spinner');\n",
              "          try {\n",
              "            const charts = await google.colab.kernel.invokeFunction(\n",
              "                'suggestCharts', [key], {});\n",
              "          } catch (error) {\n",
              "            console.error('Error during call to suggestCharts:', error);\n",
              "          }\n",
              "          quickchartButtonEl.classList.remove('colab-df-spinner');\n",
              "          quickchartButtonEl.classList.add('colab-df-quickchart-complete');\n",
              "        }\n",
              "        (() => {\n",
              "          let quickchartButtonEl =\n",
              "            document.querySelector('#df-cea8339f-45dc-4465-a9d7-54688080bf16 button');\n",
              "          quickchartButtonEl.style.display =\n",
              "            google.colab.kernel.accessAllowed ? 'block' : 'none';\n",
              "        })();\n",
              "      </script>\n",
              "    </div>\n",
              "\n",
              "  <div id=\"id_968b63c5-b475-4d1f-99be-8f1859ad4f5e\">\n",
              "    <style>\n",
              "      .colab-df-generate {\n",
              "        background-color: #E8F0FE;\n",
              "        border: none;\n",
              "        border-radius: 50%;\n",
              "        cursor: pointer;\n",
              "        display: none;\n",
              "        fill: #1967D2;\n",
              "        height: 32px;\n",
              "        padding: 0 0 0 0;\n",
              "        width: 32px;\n",
              "      }\n",
              "\n",
              "      .colab-df-generate:hover {\n",
              "        background-color: #E2EBFA;\n",
              "        box-shadow: 0px 1px 2px rgba(60, 64, 67, 0.3), 0px 1px 3px 1px rgba(60, 64, 67, 0.15);\n",
              "        fill: #174EA6;\n",
              "      }\n",
              "\n",
              "      [theme=dark] .colab-df-generate {\n",
              "        background-color: #3B4455;\n",
              "        fill: #D2E3FC;\n",
              "      }\n",
              "\n",
              "      [theme=dark] .colab-df-generate:hover {\n",
              "        background-color: #434B5C;\n",
              "        box-shadow: 0px 1px 3px 1px rgba(0, 0, 0, 0.15);\n",
              "        filter: drop-shadow(0px 1px 2px rgba(0, 0, 0, 0.3));\n",
              "        fill: #FFFFFF;\n",
              "      }\n",
              "    </style>\n",
              "    <button class=\"colab-df-generate\" onclick=\"generateWithVariable('rfr_comparison')\"\n",
              "            title=\"Generate code using this dataframe.\"\n",
              "            style=\"display:none;\">\n",
              "\n",
              "  <svg xmlns=\"http://www.w3.org/2000/svg\" height=\"24px\"viewBox=\"0 0 24 24\"\n",
              "       width=\"24px\">\n",
              "    <path d=\"M7,19H8.4L18.45,9,17,7.55,7,17.6ZM5,21V16.75L18.45,3.32a2,2,0,0,1,2.83,0l1.4,1.43a1.91,1.91,0,0,1,.58,1.4,1.91,1.91,0,0,1-.58,1.4L9.25,21ZM18.45,9,17,7.55Zm-12,3A5.31,5.31,0,0,0,4.9,8.1,5.31,5.31,0,0,0,1,6.5,5.31,5.31,0,0,0,4.9,4.9,5.31,5.31,0,0,0,6.5,1,5.31,5.31,0,0,0,8.1,4.9,5.31,5.31,0,0,0,12,6.5,5.46,5.46,0,0,0,6.5,12Z\"/>\n",
              "  </svg>\n",
              "    </button>\n",
              "    <script>\n",
              "      (() => {\n",
              "      const buttonEl =\n",
              "        document.querySelector('#id_968b63c5-b475-4d1f-99be-8f1859ad4f5e button.colab-df-generate');\n",
              "      buttonEl.style.display =\n",
              "        google.colab.kernel.accessAllowed ? 'block' : 'none';\n",
              "\n",
              "      buttonEl.onclick = () => {\n",
              "        google.colab.notebook.generateWithVariable('rfr_comparison');\n",
              "      }\n",
              "      })();\n",
              "    </script>\n",
              "  </div>\n",
              "\n",
              "    </div>\n",
              "  </div>\n"
            ],
            "application/vnd.google.colaboratory.intrinsic+json": {
              "type": "dataframe",
              "variable_name": "rfr_comparison",
              "summary": "{\n  \"name\": \"rfr_comparison\",\n  \"rows\": 2240,\n  \"fields\": [\n    {\n      \"column\": \"Predicted\",\n      \"properties\": {\n        \"dtype\": \"number\",\n        \"std\": 7494.073282782356,\n        \"min\": 0.42567606098082506,\n        \"max\": 35588.12051390306,\n        \"num_unique_values\": 2231,\n        \"samples\": [\n          26142.667391040344,\n          1011.6383290865141,\n          15688.873511692842\n        ],\n        \"semantic_type\": \"\",\n        \"description\": \"\"\n      }\n    },\n    {\n      \"column\": \"mean_grad_variance\",\n      \"properties\": {\n        \"dtype\": \"number\",\n        \"std\": 14272.320234378541,\n        \"min\": 0.1685228245139274,\n        \"max\": 150353.69232447408,\n        \"num_unique_values\": 2240,\n        \"samples\": [\n          2055.3939654942847,\n          24316.52611426165,\n          64.0236157860428\n        ],\n        \"semantic_type\": \"\",\n        \"description\": \"\"\n      }\n    }\n  ]\n}"
            }
          },
          "metadata": {},
          "execution_count": 53
        }
      ],
      "source": [
        "# View predicted vs. actual results for ridge regression model\n",
        "predicted_df = pd.DataFrame(random_forest_regression_predictions, columns=[\"Predicted\"], index=test_x.index) # pd.DataFrame(random_forest_regression_model.predict(test_x[predictors]), columns=[\"Predicted\"], index=test_x.index)\n",
        "rfr_comparison = pd.concat([predicted_df, test_y], axis=1)\n",
        "rfr_comparison"
      ]
    },
    {
      "cell_type": "code",
      "execution_count": null,
      "metadata": {
        "colab": {
          "base_uri": "https://localhost:8080/",
          "height": 591
        },
        "id": "pNydZ_SbVwiA",
        "outputId": "af960b3b-a780-4bd3-8569-c4252b2c5158"
      },
      "outputs": [
        {
          "output_type": "display_data",
          "data": {
            "text/plain": [
              "<Figure size 1000x600 with 1 Axes>"
            ],
            "image/png": "[encoded data removed]"
          },
          "metadata": {}
        }
      ],
      "source": [
        "# Graph predicted vs. actual results for random forest regression model\n",
        "font_prop = fm.FontProperties(fname='cmunbmr.ttf')\n",
        "\n",
        "with plt.style.context('seaborn-v0_8-paper'):\n",
        "  plt.figure(figsize=(10, 6))\n",
        "  sns.scatterplot(x=rfr_comparison['mean_grad_variance'], y=rfr_comparison['Predicted'], s=50)\n",
        "  plt.plot(test_y, test_y, color='#FF0C0C', linestyle='dotted', linewidth=2)\n",
        "\n",
        "  plt.xlabel('Actual Values', fontsize=27, fontproperties=font_prop, labelpad=20)\n",
        "  plt.ylabel('Predicted Values', fontsize=27, fontproperties=font_prop, labelpad=20)\n",
        "  plt.grid(True, alpha=.25)\n",
        "  plt.tick_params(axis='both', labelsize=12)\n",
        "  plt.show()"
      ]
    }
  ],
  "metadata": {
    "colab": {
      "toc_visible": true,
      "provenance": []
    },
    "kernelspec": {
      "display_name": "Python 3",
      "name": "python3"
    },
    "language_info": {
      "name": "python"
    }
  },
  "nbformat": 4,
  "nbformat_minor": 0
}