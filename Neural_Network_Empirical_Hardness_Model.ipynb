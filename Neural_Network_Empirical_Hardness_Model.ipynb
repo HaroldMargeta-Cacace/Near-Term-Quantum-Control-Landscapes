{
  "cells": [
    {
      "cell_type": "code",
      "execution_count": null,
      "metadata": {
        "id": "5lurtF52lidyMSXiTGpIso2g"
      },
      "outputs": [],
      "source": [
        "import numpy as np\n",
        "import pandas as pd\n",
        "import matplotlib.pyplot as plt\n",
        "import matplotlib.font_manager as fm\n",
        "from scipy.optimize import curve_fit\n",
        "from sklearn import linear_model\n",
        "from sklearn.ensemble import RandomForestRegressor\n",
        "from sklearn.metrics import r2_score\n",
        "from sklearn.model_selection import train_test_split\n",
        "import seaborn as sns\n",
        "import itertools\n",
        "import os\n",
        "import scipy\n",
        "import pickle\n",
        "\n",
        "import torch\n",
        "import torch.nn as nn\n",
        "import torch.optim as optim"
      ]
    },
    {
      "cell_type": "markdown",
      "metadata": {
        "id": "PrFY1ndUsFQV"
      },
      "source": [
        "# Prepare Data"
      ]
    },
    {
      "cell_type": "code",
      "execution_count": null,
      "metadata": {
        "id": "avYI9G6C4AGF"
      },
      "outputs": [],
      "source": [
        "df = pd.read_csv(\"erdos_renyi_a-g_with_graph_features.csv\")"
      ]
    },
    {
      "cell_type": "code",
      "execution_count": null,
      "metadata": {
        "id": "TALuOUU9rgm2"
      },
      "outputs": [],
      "source": [
        "# List of predictors\n",
        "predictors = ['p', 'Number of vertices', 'Number of edges', 'Edge density',\n",
        "       'Mean degree', 'Standard deviation of degrees', 'Skewness of degrees',\n",
        "       'Minimum degree', 'Maximum degree', 'Diameter', 'Radius',\n",
        "       'Vertex connectivity', 'Edge connectivity',\n",
        "       'Global clustering coefficient', 'Mean local clustering coefficient',\n",
        "       'Standard deviation of local clustering coefficients',\n",
        "       'Skewness of local clustering coefficients',\n",
        "       'Minimum local clustering coefficient',\n",
        "       'Maximum local clustering coefficient', 'Treewidth',\n",
        "       'Average path length', 'Circuit rank', 'Girth',\n",
        "       'Mean betweenness centrality',\n",
        "       'Standard deviation of betweenness centralities',\n",
        "       'Skewness of betweenness centralities',\n",
        "       'Minimum betweenness centrality', 'Maximum betweenness centrality',\n",
        "       'Algebraic connectivity', 'Von Neumann entropy',\n",
        "       'Adjacency spectrum mean', 'Adjacency spectrum standard deviation',\n",
        "       'Adjacency spectrum skewness', 'Adjacency spectrum min',\n",
        "       'Adjacency spectrum max', 'Laplacian spectrum mean',\n",
        "       'Laplacian spectrum standard deviation', 'Laplacian spectrum skewness',\n",
        "       'Laplacian spectrum max', 'Planarity',\n",
        "       'Mean harmonic centrality',\n",
        "       'Standard deviation of harmonic centralities',\n",
        "       'Skewness of harmonic centralities', 'Minimum harmonic centrality',\n",
        "       'Maximum harmonic centrality', 'Harmonic diameter', 'Mean core number',\n",
        "       'Standard deviation of core numbers', 'Skewness of core numbers',\n",
        "       'Minimum core number', 'Maximum core number', 'Chordality',\n",
        "       'Haemers bound', 'Claw-free']"
      ]
    },
    {
      "cell_type": "code",
      "execution_count": null,
      "metadata": {
        "id": "XktwojJ3Ah4d"
      },
      "outputs": [],
      "source": [
        "# Split df into training and testing dataset (ratio of 80:20)\n",
        "df_y = df['f_calls']\n",
        "df_x = df[predictors]\n",
        "train_x, test_x, train_y, test_y = train_test_split(df_x, df_y, test_size=.2)"
      ]
    },
    {
      "cell_type": "markdown",
      "source": [
        "We follow the preprocessing framework outlined on page 13 of Empirical Hardness Models: Methodology and a Case Study on Combinatorial Auctions (Kevin Leyton-Brown et al.)"
      ],
      "metadata": {
        "id": "soEcQL8k6Ssh"
      }
    },
    {
      "cell_type": "code",
      "execution_count": null,
      "metadata": {
        "id": "n9-Xr9Jd6GPx"
      },
      "outputs": [],
      "source": [
        "def preprocessing(train_x, test_x, train_y, test_y, predictors):\n",
        "  feature_to_remove = \"\"\n",
        "  max = 0\n",
        "  N = len(test_x)\n",
        "  p = len(predictors) - 1\n",
        "\n",
        "  for feature in predictors:\n",
        "    linear_regression_model = linear_model.LinearRegression()\n",
        "    new_predictors = predictors.copy()\n",
        "    new_predictors.remove(feature)\n",
        "\n",
        "    linear_regression_model.fit(train_x[new_predictors], train_x[feature])\n",
        "    linear_regression_predictions = linear_regression_model.predict(test_x[new_predictors])\n",
        "\n",
        "    r2 = r2_score(test_x[feature], linear_regression_predictions)\n",
        "    adj_r2 = 1 - (1 - r2) * ((N - 1)/(N - p - 1))\n",
        "\n",
        "    # paper uses threshold of τ = 0.99999 (pg 24)\n",
        "    if (adj_r2 >= .99999 and adj_r2 > max and r2 >= 0):\n",
        "      max = adj_r2\n",
        "      feature_to_remove = feature\n",
        "\n",
        "  return feature_to_remove\n",
        "\n",
        "feature_to_remove = preprocessing(train_x, test_x, train_y, test_y, predictors)\n",
        "\n",
        "while (feature_to_remove != \"\"):\n",
        "  predictors.remove(feature_to_remove)\n",
        "  feature_to_remove = preprocessing(train_x, test_x, train_y, test_y, predictors)\n",
        "\n",
        "train_x = train_x[predictors]\n",
        "test_x = test_x[predictors]"
      ]
    },
    {
      "cell_type": "markdown",
      "source": [
        "Using the feature importance table from the random forest regression, we identified the least important features when predicting the number of calls to the quantum circuit and removed them from the list of predictors when using random forest regression to predict the number of calls to the quantum circuit."
      ],
      "metadata": {
        "id": "odkqYQdo4qe8"
      }
    },
    {
      "cell_type": "code",
      "execution_count": null,
      "metadata": {
        "id": "w_Hx-fWOe--5"
      },
      "outputs": [],
      "source": [
        "features_rfr_calls = predictors.copy()\n",
        "features_to_remove = ['Maximum degree', 'Maximum core number',\n",
        "                     'Minimum core number', 'Edge connectivity',\n",
        "                     'Number of vertices', 'Claw-free', 'Diameter',\n",
        "                     'Vertex connectivity', 'Radius', 'Planarity',\n",
        "                     'Girth', 'Chordality']\n",
        "\n",
        "for feature in features_to_remove:\n",
        "    if feature in features_rfr_calls:\n",
        "        features_rfr_calls.remove(feature)"
      ]
    },
    {
      "cell_type": "markdown",
      "metadata": {
        "id": "0CTudi9Jiu_C"
      },
      "source": [
        "# Neural Network"
      ]
    },
    {
      "cell_type": "markdown",
      "source": [
        "Neural networks are highly effective at modeling non-linear relationships, and, in theory, can approximate any continuous function to any degree of accuracy. They also address a major limitation of random forest regression models. Since random forest regression works by averaging the predictions of several decision trees, the final prediction will always be the average of values present in the training data, meaning random forest can not predict values outside of what was in the training data."
      ],
      "metadata": {
        "id": "3cCiFH3NALS7"
      }
    },
    {
      "cell_type": "code",
      "execution_count": null,
      "metadata": {
        "id": "p5TQLb0ciwU3"
      },
      "outputs": [],
      "source": [
        "# Construct tensors for training & testing datasets\n",
        "train_X = torch.tensor(train_x[predictors].to_numpy(), dtype=torch.float32)\n",
        "train_Y = torch.tensor(train_y.to_numpy(), dtype=torch.float32).reshape(-1, 1)\n",
        "test_X = torch.tensor(test_x[predictors].to_numpy(), dtype=torch.float32)\n",
        "test_Y = torch.tensor(test_y.to_numpy(), dtype=torch.float32).reshape(-1, 1)"
      ]
    },
    {
      "cell_type": "code",
      "execution_count": null,
      "metadata": {
        "id": "53Ehw1lrzlWM"
      },
      "outputs": [],
      "source": [
        "# Set input & output dimensions\n",
        "input_size = len(predictors)\n",
        "output_size = 1"
      ]
    },
    {
      "cell_type": "code",
      "execution_count": null,
      "metadata": {
        "id": "Tovx3XGNmtnA"
      },
      "outputs": [],
      "source": [
        "# Neural network architecture\n",
        "class SimpleNet(nn.Module):\n",
        "  def __init__(self, input_size, output_size):\n",
        "    super(SimpleNet, self).__init__()\n",
        "    self.fc1 = nn.Linear(input_size, 32)\n",
        "    self.fc2 = nn.Linear(32, 32)\n",
        "    self.fc3 = nn.Linear(32, 16)\n",
        "    self.fc4 = nn.Linear(16, output_size)\n",
        "    self.relu = nn.ReLU()\n",
        "\n",
        "  def forward(self, x):\n",
        "    x = self.fc1(x)\n",
        "    x = self.relu(x)\n",
        "    x = self.fc2(x)\n",
        "    x = self.relu(x)\n",
        "    x = self.fc3(x)\n",
        "    x = self.relu(x)\n",
        "    x = self.fc4(x)\n",
        "    x = self.relu(x)\n",
        "    return x"
      ]
    },
    {
      "cell_type": "code",
      "execution_count": null,
      "metadata": {
        "colab": {
          "base_uri": "https://localhost:8080/"
        },
        "id": "o_jQM_oZb-wT",
        "outputId": "de7fce61-e715-487a-a34d-dc470d795e4b"
      },
      "outputs": [
        {
          "output_type": "stream",
          "name": "stdout",
          "text": [
            "Finished epoch 100, latest loss 118046.5234375\n",
            "Finished epoch 200, latest loss 53166.81640625\n",
            "Finished epoch 300, latest loss 45214.21484375\n",
            "Finished epoch 400, latest loss 42912.93359375\n",
            "Finished epoch 500, latest loss 40010.4765625\n",
            "Finished epoch 600, latest loss 37137.78515625\n",
            "Finished epoch 700, latest loss 38522.66796875\n",
            "Finished epoch 800, latest loss 35540.15234375\n",
            "Finished epoch 900, latest loss 37411.56640625\n",
            "Finished epoch 1000, latest loss 34986.5078125\n",
            "Finished epoch 1100, latest loss 33568.54296875\n",
            "Finished epoch 1200, latest loss 33288.69921875\n",
            "Finished epoch 1300, latest loss 33497.12109375\n",
            "Finished epoch 1400, latest loss 32169.853515625\n",
            "Finished epoch 1500, latest loss 32018.412109375\n"
          ]
        }
      ],
      "source": [
        "# Model training\n",
        "num_epochs = 1500\n",
        "inputs = train_X\n",
        "targets = train_Y\n",
        "\n",
        "model = SimpleNet(input_size, output_size)\n",
        "loss_fn = nn.MSELoss()\n",
        "optimizer = optim.Adam(model.parameters(), lr=0.006)\n",
        "\n",
        "for epoch in range(num_epochs):\n",
        "  optimizer.zero_grad()\n",
        "  outputs = model(inputs)\n",
        "  loss = loss_fn(outputs, targets)\n",
        "  loss.backward()\n",
        "  torch.nn.utils.clip_grad_norm_(model.parameters(), max_norm=1.0)  # Add gradient clipping\n",
        "  optimizer.step()\n",
        "  if (epoch+1) % 100 == 0:\n",
        "    print(f'Finished epoch {epoch + 1}, latest loss {loss.item()}')"
      ]
    },
    {
      "cell_type": "code",
      "execution_count": null,
      "metadata": {
        "id": "CX3MK96ZxLhe"
      },
      "outputs": [],
      "source": [
        "# Save the model weights\n",
        "torch.save(model.state_dict(), 'simple_net_weights.pth')"
      ]
    },
    {
      "cell_type": "code",
      "execution_count": null,
      "metadata": {
        "id": "DCOs1BW-nCS5"
      },
      "outputs": [],
      "source": [
        "# Get predictions for neural network\n",
        "neural_network_predictions = model(test_X).detach().numpy()"
      ]
    },
    {
      "cell_type": "code",
      "execution_count": null,
      "metadata": {
        "colab": {
          "base_uri": "https://localhost:8080/"
        },
        "id": "U7BoV7glnSOr",
        "outputId": "66b55da1-1ba4-4127-e82e-d18c03b3a644"
      },
      "outputs": [
        {
          "output_type": "stream",
          "name": "stdout",
          "text": [
            "RMSE: 1078.987\n",
            "MAE: 445.527\n",
            "R^2: 0.783\n",
            "Adj. R^2: 0.777\n"
          ]
        }
      ],
      "source": [
        "# Compute accuracy of neural network model: RMSE, MAE, R^2, & Adj. R^2\n",
        "rmse = np.sqrt(np.mean((neural_network_predictions - test_Y.detach().numpy()) ** 2))\n",
        "mae = np.mean(np.abs(neural_network_predictions - test_Y.detach().numpy()))\n",
        "r_2 = r2_score(np.array(test_Y.detach().numpy()), neural_network_predictions)\n",
        "n = len(test_x)\n",
        "p = len(predictors)\n",
        "adj_r2 = 1 - (1 - r_2) * (n - 1)/(n - p - 1)\n",
        "\n",
        "print(\"RMSE: {:.3f}\".format(rmse)) # minimize\n",
        "print(\"MAE: {:.3f}\".format(mae)) # minimize\n",
        "print(\"R^2: {:.3f}\".format(r_2)) # close to 1\n",
        "print(\"Adj. R^2: {:.3f}\".format(adj_r2)) # close to 1"
      ]
    },
    {
      "cell_type": "code",
      "execution_count": null,
      "metadata": {
        "colab": {
          "base_uri": "https://localhost:8080/",
          "height": 424
        },
        "id": "g1wCrUBzjzob",
        "outputId": "1c2e9524-24b3-4af4-c9b6-0892578d4eea"
      },
      "outputs": [
        {
          "output_type": "execute_result",
          "data": {
            "text/plain": [
              "          Predicted  mean_grad_variance\n",
              "1744   12012.078125         9736.238000\n",
              "1745    2366.166504         2523.282036\n",
              "1746    1205.744263          500.256067\n",
              "1747     273.520416           88.568401\n",
              "1748    5816.019043         3999.172233\n",
              "...             ...                 ...\n",
              "23287    344.585510          875.926115\n",
              "23288  16275.408203        18170.589993\n",
              "23289   2658.582520         2839.067609\n",
              "23290   1677.876221          893.834928\n",
              "23291    389.437378          292.512763\n",
              "\n",
              "[2240 rows x 2 columns]"
            ],
            "text/html": [
              "\n",
              "  <div id=\"df-4b2dc2ee-c306-4ace-8a8b-ec0d6016191a\" class=\"colab-df-container\">\n",
              "    <div>\n",
              "<style scoped>\n",
              "    .dataframe tbody tr th:only-of-type {\n",
              "        vertical-align: middle;\n",
              "    }\n",
              "\n",
              "    .dataframe tbody tr th {\n",
              "        vertical-align: top;\n",
              "    }\n",
              "\n",
              "    .dataframe thead th {\n",
              "        text-align: right;\n",
              "    }\n",
              "</style>\n",
              "<table border=\"1\" class=\"dataframe\">\n",
              "  <thead>\n",
              "    <tr style=\"text-align: right;\">\n",
              "      <th></th>\n",
              "      <th>Predicted</th>\n",
              "      <th>mean_grad_variance</th>\n",
              "    </tr>\n",
              "  </thead>\n",
              "  <tbody>\n",
              "    <tr>\n",
              "      <th>1744</th>\n",
              "      <td>12012.078125</td>\n",
              "      <td>9736.238000</td>\n",
              "    </tr>\n",
              "    <tr>\n",
              "      <th>1745</th>\n",
              "      <td>2366.166504</td>\n",
              "      <td>2523.282036</td>\n",
              "    </tr>\n",
              "    <tr>\n",
              "      <th>1746</th>\n",
              "      <td>1205.744263</td>\n",
              "      <td>500.256067</td>\n",
              "    </tr>\n",
              "    <tr>\n",
              "      <th>1747</th>\n",
              "      <td>273.520416</td>\n",
              "      <td>88.568401</td>\n",
              "    </tr>\n",
              "    <tr>\n",
              "      <th>1748</th>\n",
              "      <td>5816.019043</td>\n",
              "      <td>3999.172233</td>\n",
              "    </tr>\n",
              "    <tr>\n",
              "      <th>...</th>\n",
              "      <td>...</td>\n",
              "      <td>...</td>\n",
              "    </tr>\n",
              "    <tr>\n",
              "      <th>23287</th>\n",
              "      <td>344.585510</td>\n",
              "      <td>875.926115</td>\n",
              "    </tr>\n",
              "    <tr>\n",
              "      <th>23288</th>\n",
              "      <td>16275.408203</td>\n",
              "      <td>18170.589993</td>\n",
              "    </tr>\n",
              "    <tr>\n",
              "      <th>23289</th>\n",
              "      <td>2658.582520</td>\n",
              "      <td>2839.067609</td>\n",
              "    </tr>\n",
              "    <tr>\n",
              "      <th>23290</th>\n",
              "      <td>1677.876221</td>\n",
              "      <td>893.834928</td>\n",
              "    </tr>\n",
              "    <tr>\n",
              "      <th>23291</th>\n",
              "      <td>389.437378</td>\n",
              "      <td>292.512763</td>\n",
              "    </tr>\n",
              "  </tbody>\n",
              "</table>\n",
              "<p>2240 rows × 2 columns</p>\n",
              "</div>\n",
              "    <div class=\"colab-df-buttons\">\n",
              "\n",
              "  <div class=\"colab-df-container\">\n",
              "    <button class=\"colab-df-convert\" onclick=\"convertToInteractive('df-4b2dc2ee-c306-4ace-8a8b-ec0d6016191a')\"\n",
              "            title=\"Convert this dataframe to an interactive table.\"\n",
              "            style=\"display:none;\">\n",
              "\n",
              "  <svg xmlns=\"http://www.w3.org/2000/svg\" height=\"24px\" viewBox=\"0 -960 960 960\">\n",
              "    <path d=\"M120-120v-720h720v720H120Zm60-500h600v-160H180v160Zm220 220h160v-160H400v160Zm0 220h160v-160H400v160ZM180-400h160v-160H180v160Zm440 0h160v-160H620v160ZM180-180h160v-160H180v160Zm440 0h160v-160H620v160Z\"/>\n",
              "  </svg>\n",
              "    </button>\n",
              "\n",
              "  <style>\n",
              "    .colab-df-container {\n",
              "      display:flex;\n",
              "      gap: 12px;\n",
              "    }\n",
              "\n",
              "    .colab-df-convert {\n",
              "      background-color: #E8F0FE;\n",
              "      border: none;\n",
              "      border-radius: 50%;\n",
              "      cursor: pointer;\n",
              "      display: none;\n",
              "      fill: #1967D2;\n",
              "      height: 32px;\n",
              "      padding: 0 0 0 0;\n",
              "      width: 32px;\n",
              "    }\n",
              "\n",
              "    .colab-df-convert:hover {\n",
              "      background-color: #E2EBFA;\n",
              "      box-shadow: 0px 1px 2px rgba(60, 64, 67, 0.3), 0px 1px 3px 1px rgba(60, 64, 67, 0.15);\n",
              "      fill: #174EA6;\n",
              "    }\n",
              "\n",
              "    .colab-df-buttons div {\n",
              "      margin-bottom: 4px;\n",
              "    }\n",
              "\n",
              "    [theme=dark] .colab-df-convert {\n",
              "      background-color: #3B4455;\n",
              "      fill: #D2E3FC;\n",
              "    }\n",
              "\n",
              "    [theme=dark] .colab-df-convert:hover {\n",
              "      background-color: #434B5C;\n",
              "      box-shadow: 0px 1px 3px 1px rgba(0, 0, 0, 0.15);\n",
              "      filter: drop-shadow(0px 1px 2px rgba(0, 0, 0, 0.3));\n",
              "      fill: #FFFFFF;\n",
              "    }\n",
              "  </style>\n",
              "\n",
              "    <script>\n",
              "      const buttonEl =\n",
              "        document.querySelector('#df-4b2dc2ee-c306-4ace-8a8b-ec0d6016191a button.colab-df-convert');\n",
              "      buttonEl.style.display =\n",
              "        google.colab.kernel.accessAllowed ? 'block' : 'none';\n",
              "\n",
              "      async function convertToInteractive(key) {\n",
              "        const element = document.querySelector('#df-4b2dc2ee-c306-4ace-8a8b-ec0d6016191a');\n",
              "        const dataTable =\n",
              "          await google.colab.kernel.invokeFunction('convertToInteractive',\n",
              "                                                    [key], {});\n",
              "        if (!dataTable) return;\n",
              "\n",
              "        const docLinkHtml = 'Like what you see? Visit the ' +\n",
              "          '<a target=\"_blank\" href=https://colab.research.google.com/notebooks/data_table.ipynb>data table notebook</a>'\n",
              "          + ' to learn more about interactive tables.';\n",
              "        element.innerHTML = '';\n",
              "        dataTable['output_type'] = 'display_data';\n",
              "        await google.colab.output.renderOutput(dataTable, element);\n",
              "        const docLink = document.createElement('div');\n",
              "        docLink.innerHTML = docLinkHtml;\n",
              "        element.appendChild(docLink);\n",
              "      }\n",
              "    </script>\n",
              "  </div>\n",
              "\n",
              "\n",
              "    <div id=\"df-ab6097d1-fd34-4836-8254-a61f11c287e3\">\n",
              "      <button class=\"colab-df-quickchart\" onclick=\"quickchart('df-ab6097d1-fd34-4836-8254-a61f11c287e3')\"\n",
              "                title=\"Suggest charts\"\n",
              "                style=\"display:none;\">\n",
              "\n",
              "<svg xmlns=\"http://www.w3.org/2000/svg\" height=\"24px\"viewBox=\"0 0 24 24\"\n",
              "     width=\"24px\">\n",
              "    <g>\n",
              "        <path d=\"M19 3H5c-1.1 0-2 .9-2 2v14c0 1.1.9 2 2 2h14c1.1 0 2-.9 2-2V5c0-1.1-.9-2-2-2zM9 17H7v-7h2v7zm4 0h-2V7h2v10zm4 0h-2v-4h2v4z\"/>\n",
              "    </g>\n",
              "</svg>\n",
              "      </button>\n",
              "\n",
              "<style>\n",
              "  .colab-df-quickchart {\n",
              "      --bg-color: #E8F0FE;\n",
              "      --fill-color: #1967D2;\n",
              "      --hover-bg-color: #E2EBFA;\n",
              "      --hover-fill-color: #174EA6;\n",
              "      --disabled-fill-color: #AAA;\n",
              "      --disabled-bg-color: #DDD;\n",
              "  }\n",
              "\n",
              "  [theme=dark] .colab-df-quickchart {\n",
              "      --bg-color: #3B4455;\n",
              "      --fill-color: #D2E3FC;\n",
              "      --hover-bg-color: #434B5C;\n",
              "      --hover-fill-color: #FFFFFF;\n",
              "      --disabled-bg-color: #3B4455;\n",
              "      --disabled-fill-color: #666;\n",
              "  }\n",
              "\n",
              "  .colab-df-quickchart {\n",
              "    background-color: var(--bg-color);\n",
              "    border: none;\n",
              "    border-radius: 50%;\n",
              "    cursor: pointer;\n",
              "    display: none;\n",
              "    fill: var(--fill-color);\n",
              "    height: 32px;\n",
              "    padding: 0;\n",
              "    width: 32px;\n",
              "  }\n",
              "\n",
              "  .colab-df-quickchart:hover {\n",
              "    background-color: var(--hover-bg-color);\n",
              "    box-shadow: 0 1px 2px rgba(60, 64, 67, 0.3), 0 1px 3px 1px rgba(60, 64, 67, 0.15);\n",
              "    fill: var(--button-hover-fill-color);\n",
              "  }\n",
              "\n",
              "  .colab-df-quickchart-complete:disabled,\n",
              "  .colab-df-quickchart-complete:disabled:hover {\n",
              "    background-color: var(--disabled-bg-color);\n",
              "    fill: var(--disabled-fill-color);\n",
              "    box-shadow: none;\n",
              "  }\n",
              "\n",
              "  .colab-df-spinner {\n",
              "    border: 2px solid var(--fill-color);\n",
              "    border-color: transparent;\n",
              "    border-bottom-color: var(--fill-color);\n",
              "    animation:\n",
              "      spin 1s steps(1) infinite;\n",
              "  }\n",
              "\n",
              "  @keyframes spin {\n",
              "    0% {\n",
              "      border-color: transparent;\n",
              "      border-bottom-color: var(--fill-color);\n",
              "      border-left-color: var(--fill-color);\n",
              "    }\n",
              "    20% {\n",
              "      border-color: transparent;\n",
              "      border-left-color: var(--fill-color);\n",
              "      border-top-color: var(--fill-color);\n",
              "    }\n",
              "    30% {\n",
              "      border-color: transparent;\n",
              "      border-left-color: var(--fill-color);\n",
              "      border-top-color: var(--fill-color);\n",
              "      border-right-color: var(--fill-color);\n",
              "    }\n",
              "    40% {\n",
              "      border-color: transparent;\n",
              "      border-right-color: var(--fill-color);\n",
              "      border-top-color: var(--fill-color);\n",
              "    }\n",
              "    60% {\n",
              "      border-color: transparent;\n",
              "      border-right-color: var(--fill-color);\n",
              "    }\n",
              "    80% {\n",
              "      border-color: transparent;\n",
              "      border-right-color: var(--fill-color);\n",
              "      border-bottom-color: var(--fill-color);\n",
              "    }\n",
              "    90% {\n",
              "      border-color: transparent;\n",
              "      border-bottom-color: var(--fill-color);\n",
              "    }\n",
              "  }\n",
              "</style>\n",
              "\n",
              "      <script>\n",
              "        async function quickchart(key) {\n",
              "          const quickchartButtonEl =\n",
              "            document.querySelector('#' + key + ' button');\n",
              "          quickchartButtonEl.disabled = true;  // To prevent multiple clicks.\n",
              "          quickchartButtonEl.classList.add('colab-df-spinner');\n",
              "          try {\n",
              "            const charts = await google.colab.kernel.invokeFunction(\n",
              "                'suggestCharts', [key], {});\n",
              "          } catch (error) {\n",
              "            console.error('Error during call to suggestCharts:', error);\n",
              "          }\n",
              "          quickchartButtonEl.classList.remove('colab-df-spinner');\n",
              "          quickchartButtonEl.classList.add('colab-df-quickchart-complete');\n",
              "        }\n",
              "        (() => {\n",
              "          let quickchartButtonEl =\n",
              "            document.querySelector('#df-ab6097d1-fd34-4836-8254-a61f11c287e3 button');\n",
              "          quickchartButtonEl.style.display =\n",
              "            google.colab.kernel.accessAllowed ? 'block' : 'none';\n",
              "        })();\n",
              "      </script>\n",
              "    </div>\n",
              "\n",
              "  <div id=\"id_3ea0fd9c-9f6f-4145-8a99-674f87b2c22b\">\n",
              "    <style>\n",
              "      .colab-df-generate {\n",
              "        background-color: #E8F0FE;\n",
              "        border: none;\n",
              "        border-radius: 50%;\n",
              "        cursor: pointer;\n",
              "        display: none;\n",
              "        fill: #1967D2;\n",
              "        height: 32px;\n",
              "        padding: 0 0 0 0;\n",
              "        width: 32px;\n",
              "      }\n",
              "\n",
              "      .colab-df-generate:hover {\n",
              "        background-color: #E2EBFA;\n",
              "        box-shadow: 0px 1px 2px rgba(60, 64, 67, 0.3), 0px 1px 3px 1px rgba(60, 64, 67, 0.15);\n",
              "        fill: #174EA6;\n",
              "      }\n",
              "\n",
              "      [theme=dark] .colab-df-generate {\n",
              "        background-color: #3B4455;\n",
              "        fill: #D2E3FC;\n",
              "      }\n",
              "\n",
              "      [theme=dark] .colab-df-generate:hover {\n",
              "        background-color: #434B5C;\n",
              "        box-shadow: 0px 1px 3px 1px rgba(0, 0, 0, 0.15);\n",
              "        filter: drop-shadow(0px 1px 2px rgba(0, 0, 0, 0.3));\n",
              "        fill: #FFFFFF;\n",
              "      }\n",
              "    </style>\n",
              "    <button class=\"colab-df-generate\" onclick=\"generateWithVariable('nn_comparison')\"\n",
              "            title=\"Generate code using this dataframe.\"\n",
              "            style=\"display:none;\">\n",
              "\n",
              "  <svg xmlns=\"http://www.w3.org/2000/svg\" height=\"24px\"viewBox=\"0 0 24 24\"\n",
              "       width=\"24px\">\n",
              "    <path d=\"M7,19H8.4L18.45,9,17,7.55,7,17.6ZM5,21V16.75L18.45,3.32a2,2,0,0,1,2.83,0l1.4,1.43a1.91,1.91,0,0,1,.58,1.4,1.91,1.91,0,0,1-.58,1.4L9.25,21ZM18.45,9,17,7.55Zm-12,3A5.31,5.31,0,0,0,4.9,8.1,5.31,5.31,0,0,0,1,6.5,5.31,5.31,0,0,0,4.9,4.9,5.31,5.31,0,0,0,6.5,1,5.31,5.31,0,0,0,8.1,4.9,5.31,5.31,0,0,0,12,6.5,5.46,5.46,0,0,0,6.5,12Z\"/>\n",
              "  </svg>\n",
              "    </button>\n",
              "    <script>\n",
              "      (() => {\n",
              "      const buttonEl =\n",
              "        document.querySelector('#id_3ea0fd9c-9f6f-4145-8a99-674f87b2c22b button.colab-df-generate');\n",
              "      buttonEl.style.display =\n",
              "        google.colab.kernel.accessAllowed ? 'block' : 'none';\n",
              "\n",
              "      buttonEl.onclick = () => {\n",
              "        google.colab.notebook.generateWithVariable('nn_comparison');\n",
              "      }\n",
              "      })();\n",
              "    </script>\n",
              "  </div>\n",
              "\n",
              "    </div>\n",
              "  </div>\n"
            ],
            "application/vnd.google.colaboratory.intrinsic+json": {
              "type": "dataframe",
              "variable_name": "nn_comparison",
              "summary": "{\n  \"name\": \"nn_comparison\",\n  \"rows\": 2240,\n  \"fields\": [\n    {\n      \"column\": \"Predicted\",\n      \"properties\": {\n        \"dtype\": \"float32\",\n        \"num_unique_values\": 1560,\n        \"samples\": [\n          17016.36328125,\n          245.50621032714844,\n          1239.451904296875\n        ],\n        \"semantic_type\": \"\",\n        \"description\": \"\"\n      }\n    },\n    {\n      \"column\": \"mean_grad_variance\",\n      \"properties\": {\n        \"dtype\": \"number\",\n        \"std\": 14272.320234378541,\n        \"min\": 0.1685228245139274,\n        \"max\": 150353.69232447408,\n        \"num_unique_values\": 2240,\n        \"samples\": [\n          2055.3939654942847,\n          24316.52611426165,\n          64.0236157860428\n        ],\n        \"semantic_type\": \"\",\n        \"description\": \"\"\n      }\n    }\n  ]\n}"
            }
          },
          "metadata": {},
          "execution_count": 60
        }
      ],
      "source": [
        "# View predicted vs. actual results for neural network model\n",
        "predicted_df = pd.DataFrame(neural_network_predictions, columns=[\"Predicted\"], index=test_x.index)\n",
        "nn_comparison = pd.concat([predicted_df, test_y], axis=1)\n",
        "nn_comparison"
      ]
    },
    {
      "cell_type": "code",
      "execution_count": null,
      "metadata": {
        "colab": {
          "base_uri": "https://localhost:8080/",
          "height": 591
        },
        "id": "T0vh0bIIaeRe",
        "outputId": "74fbd0c7-81a3-470c-8a07-46ea7fba4404"
      },
      "outputs": [
        {
          "output_type": "display_data",
          "data": {
            "text/plain": [
              "<Figure size 1000x600 with 1 Axes>"
            ],
            "image/png": "[encoded data removed]"
          },
          "metadata": {}
        }
      ],
      "source": [
        "# Graph predicted vs. actual results for neural network model\n",
        "font_prop = fm.FontProperties(fname='cmunbmr.ttf')\n",
        "\n",
        "with plt.style.context('seaborn-v0_8-paper'):\n",
        "  plt.figure(figsize=(10, 6))\n",
        "  sns.scatterplot(x=nn_comparison['mean_grad_variance'], y=nn_comparison['Predicted'], s=50)\n",
        "  plt.plot(test_Y, test_Y, color='#FF0C0C', linestyle='dotted', linewidth=2)\n",
        "\n",
        "  plt.xlabel('Actual Values', fontsize=27, fontproperties=font_prop, labelpad=20)\n",
        "  plt.ylabel('Predicted Values', fontsize=27, fontproperties=font_prop, labelpad=20)\n",
        "  plt.grid(True, alpha=.25)\n",
        "  plt.tick_params(axis='both', labelsize=12)\n",
        "  plt.show()"
      ]
    }
  ],
  "metadata": {
    "colab": {
      "toc_visible": true,
      "provenance": []
    },
    "kernelspec": {
      "display_name": "Python 3",
      "name": "python3"
    },
    "language_info": {
      "name": "python"
    }
  },
  "nbformat": 4,
  "nbformat_minor": 0
}